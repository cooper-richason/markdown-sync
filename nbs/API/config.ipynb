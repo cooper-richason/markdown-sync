{
 "cells": [
  {
   "cell_type": "markdown",
   "metadata": {},
   "source": [
    "# Config\n",
    "\n",
    "> Command Line Interface"
   ]
  },
  {
   "cell_type": "code",
   "execution_count": null,
   "metadata": {},
   "outputs": [],
   "source": [
    "#| default_exp config"
   ]
  },
  {
   "cell_type": "code",
   "execution_count": null,
   "metadata": {},
   "outputs": [],
   "source": [
    "#| hide\n",
    "from nbdev.showdoc import *"
   ]
  },
  {
   "cell_type": "code",
   "execution_count": null,
   "metadata": {},
   "outputs": [],
   "source": [
    "#| export\n",
    "import json\n",
    "from pathlib import Path\n",
    "from appdirs import user_config_dir\n",
    "from fastcore.test import *"
   ]
  },
  {
   "cell_type": "markdown",
   "metadata": {},
   "source": [
    "## Creating / Reading Config"
   ]
  },
  {
   "cell_type": "code",
   "execution_count": null,
   "metadata": {},
   "outputs": [],
   "source": [
    "#| export\n",
    "\n",
    "APP_NAME = \"markdown_sync\"\n",
    "CONFIG_DIR = Path(user_config_dir(APP_NAME))\n",
    "CONFIG_FILE = CONFIG_DIR / \"config.json\"\n",
    "\n",
    "def load_config():\n",
    "    \"\"\"Load config, creating default if it doesn't exist\"\"\"\n",
    "    if not CONFIG_FILE.exists():\n",
    "        return {}\n",
    "    \n",
    "    with open(CONFIG_FILE) as f:\n",
    "        return json.load(f)\n",
    "\n",
    "def save_config(config):\n",
    "    \"\"\"Save config to file\"\"\"\n",
    "    CONFIG_DIR.mkdir(parents=True, exist_ok=True)\n",
    "    with open(CONFIG_FILE, 'w') as f:\n",
    "        json.dump(config, f, indent=2)\n",
    "\n"
   ]
  },
  {
   "cell_type": "markdown",
   "metadata": {},
   "source": [
    "Let's try it out! Let's see if we can save a config:"
   ]
  },
  {
   "cell_type": "code",
   "execution_count": null,
   "metadata": {},
   "outputs": [],
   "source": [
    "config = {'quarto-path':'/my/example/project/path','obsidian-path':'/path/to/my/valult'}\n",
    "\n",
    "save_config(config)"
   ]
  },
  {
   "cell_type": "markdown",
   "metadata": {},
   "source": [
    "Now, let's try reading it and see if the file is the same:"
   ]
  },
  {
   "cell_type": "code",
   "execution_count": null,
   "metadata": {},
   "outputs": [
    {
     "name": "stdout",
     "output_type": "stream",
     "text": [
      "{'quarto-path': '/my/example/project/path', 'obsidian-path': '/path/to/my/valult'}\n"
     ]
    }
   ],
   "source": [
    "t1 = load_config()\n",
    "print(t1)"
   ]
  },
  {
   "cell_type": "code",
   "execution_count": null,
   "metadata": {},
   "outputs": [
    {
     "name": "stdout",
     "output_type": "stream",
     "text": [
      "{'quarto-path': '/my/example/project/path', 'obsidian-path': '/path/to/my/valult'}\n",
      "\n",
      "It works!\n"
     ]
    }
   ],
   "source": [
    "t1 = load_config()\n",
    "print(t1)\n",
    "\n",
    "test_eq(t1['obsidian-path'],config['obsidian-path'])\n",
    "test_eq(t1['quarto-path'],config['quarto-path'])\n",
    "print('\\nIt works!')"
   ]
  },
  {
   "cell_type": "code",
   "execution_count": null,
   "metadata": {},
   "outputs": [],
   "source": [
    "t1.pop('obsidian-path')\n",
    "t1.pop('quarto-path')\n",
    "save_config(t1)"
   ]
  },
  {
   "cell_type": "markdown",
   "metadata": {},
   "source": [
    "## Setting/Updating Values"
   ]
  },
  {
   "cell_type": "code",
   "execution_count": null,
   "metadata": {},
   "outputs": [],
   "source": [
    "#| export\n",
    "\n",
    "def get_setting(key, default=None):\n",
    "    \"\"\"Get a specific setting\"\"\"\n",
    "    config = load_config()\n",
    "    return config.get(key, default)\n",
    "\n",
    "def set_setting(key, value):\n",
    "    \"\"\"Set a specific setting\"\"\"\n",
    "    config = load_config()\n",
    "    config[key] = value\n",
    "    save_config(config)"
   ]
  },
  {
   "cell_type": "markdown",
   "metadata": {},
   "source": [
    "Let's see if these work!"
   ]
  },
  {
   "cell_type": "code",
   "execution_count": null,
   "metadata": {},
   "outputs": [],
   "source": [
    "set_setting('author','Cooper Richason')"
   ]
  },
  {
   "cell_type": "code",
   "execution_count": null,
   "metadata": {},
   "outputs": [
    {
     "name": "stdout",
     "output_type": "stream",
     "text": [
      "Cooper Richason\n",
      "It works!\n"
     ]
    }
   ],
   "source": [
    "t2 = get_setting('author')\n",
    "print(t2)\n",
    "\n",
    "test_eq('Cooper Richason',t2)\n",
    "print('It works!')"
   ]
  },
  {
   "cell_type": "code",
   "execution_count": null,
   "metadata": {},
   "outputs": [],
   "source": [
    "#| hide\n",
    "import nbdev; nbdev.nbdev_export()"
   ]
  }
 ],
 "metadata": {
  "kernelspec": {
   "display_name": "python3",
   "language": "python",
   "name": "python3"
  }
 },
 "nbformat": 4,
 "nbformat_minor": 4
}
